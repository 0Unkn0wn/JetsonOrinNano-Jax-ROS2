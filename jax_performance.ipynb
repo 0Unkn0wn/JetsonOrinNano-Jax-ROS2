{
 "cells": [
  {
   "cell_type": "code",
   "execution_count": 1,
   "id": "62654d0e-2be2-49bc-b67a-10cdb03e0ac7",
   "metadata": {},
   "outputs": [
    {
     "name": "stdout",
     "output_type": "stream",
     "text": [
      "env: XLA_PYTHON_CLIENT_MEM_FRACTION=.50\n"
     ]
    }
   ],
   "source": [
    "#first setting the gpu preallocation to 50% instead of the default 75%\n",
    "%env XLA_PYTHON_CLIENT_MEM_FRACTION=.50\n",
    "#importing the necessary libraries\n",
    "import jax\n",
    "import jax.numpy as jnp\n",
    "import numpy as np\n",
    "from jax import grad, jit, vmap\n",
    "from jax import random\n",
    "import matplotlib.pyplot as plt"
   ]
  },
  {
   "cell_type": "code",
   "execution_count": 2,
   "id": "eef21e6c-491b-4d0c-903b-c26480031bff",
   "metadata": {},
   "outputs": [
    {
     "name": "stdout",
     "output_type": "stream",
     "text": [
      "49 ms ± 639 µs per loop (mean ± std. dev. of 7 runs, 1 loop each)\n"
     ]
    },
    {
     "data": {
      "text/plain": [
       "<TimeitResult : 49 ms ± 639 µs per loop (mean ± std. dev. of 7 runs, 1 loop each)>"
      ]
     },
     "execution_count": 2,
     "metadata": {},
     "output_type": "execute_result"
    }
   ],
   "source": [
    "%%timeit -o\n",
    "#code running on the gpu\n",
    "#generating random numbers\n",
    "key = random.PRNGKey(0)\n",
    "x = random.normal(key, (10,))\n",
    "#multiplying 2 very big matrices\n",
    "size = 4000\n",
    "x = random.normal(key, (size, size), dtype=jnp.float32)\n",
    "jnp.dot(x, x.T).block_until_ready()"
   ]
  },
  {
   "cell_type": "code",
   "execution_count": 3,
   "id": "b7be5526-66b5-45c6-a899-393b19d5bb0c",
   "metadata": {},
   "outputs": [],
   "source": [
    "result_jax_gpu = _"
   ]
  },
  {
   "cell_type": "code",
   "execution_count": 4,
   "id": "0485a5c3-442b-467f-8178-a67263a74c8d",
   "metadata": {},
   "outputs": [
    {
     "name": "stdout",
     "output_type": "stream",
     "text": [
      "1.33 s ± 3.87 ms per loop (mean ± std. dev. of 7 runs, 1 loop each)\n"
     ]
    },
    {
     "data": {
      "text/plain": [
       "<TimeitResult : 1.33 s ± 3.87 ms per loop (mean ± std. dev. of 7 runs, 1 loop each)>"
      ]
     },
     "execution_count": 4,
     "metadata": {},
     "output_type": "execute_result"
    }
   ],
   "source": [
    "%%timeit -o\n",
    "#code running on the cpu\n",
    "with jax.default_device(jax.devices('cpu')[0]):\n",
    "    key = random.PRNGKey(0)\n",
    "    x = random.normal(key, (10,))\n",
    "    size = 4000\n",
    "    x = random.normal(key, (size, size), dtype=jnp.float32)\n",
    "    jnp.dot(x, x.T).block_until_ready()"
   ]
  },
  {
   "cell_type": "code",
   "execution_count": 5,
   "id": "2dceadb1-83f4-4e9f-b943-bc5b681fa952",
   "metadata": {},
   "outputs": [],
   "source": [
    "result_jax_cpu = _"
   ]
  },
  {
   "cell_type": "code",
   "execution_count": 6,
   "id": "96b7cd96-9947-4f4f-9918-7e5d78e9b3e5",
   "metadata": {},
   "outputs": [
    {
     "data": {
      "image/png": "[encoded data removed]",
      "text/plain": [
       "<Figure size 1000x500 with 1 Axes>"
      ]
     },
     "metadata": {},
     "output_type": "display_data"
    }
   ],
   "source": [
    "fig, ax = plt.subplots(figsize=(10, 5))\n",
    "test_names = [\n",
    "    \"JAX: on CPU\",\n",
    "    \"JAX: on GPU\"\n",
    "][::-1]\n",
    "test_results = np.array([\n",
    "    1e3 * np.min(result_jax_cpu.all_runs) / result_jax_cpu.loops,\n",
    "    1e3 * np.min(result_jax_gpu.all_runs) / result_jax_gpu.loops,\n",
    "][::-1])\n",
    "test_variations = np.array([\n",
    "    1e3 * np.ptp(result_jax_cpu.all_runs) / result_jax_cpu.loops,\n",
    "    1e3 * np.ptp(result_jax_gpu.all_runs) / result_jax_gpu.loops,\n",
    "][::-1])\n",
    "ax.axvline(test_results[-1], c=\"darkorange\", ls=\"--\");\n",
    "ax.barh(range(len(test_names)), test_results);\n",
    "ax.errorbar(test_results + test_variations/2, range(len(test_names)), xerr=test_variations/2, capsize=5, fmt=\"none\", c=\"#1f77b4\");\n",
    "ax.set_yticks(range(len(test_names)));\n",
    "ax.set_yticklabels(test_names);\n",
    "ax.set_xlabel(\"time in ms, smaller is better\");\n",
    "ax.set_ylim(-0.75, len(test_results) - 0.25);"
   ]
  },
  {
   "cell_type": "code",
   "execution_count": null,
   "id": "4328117e-f4c4-4297-b2ea-c04a16b45376",
   "metadata": {},
   "outputs": [],
   "source": []
  }
 ],
 "metadata": {
  "kernelspec": {
   "display_name": "Python 3 (ipykernel)",
   "language": "python",
   "name": "python3"
  },
  "language_info": {
   "codemirror_mode": {
    "name": "ipython",
    "version": 3
   },
   "file_extension": ".py",
   "mimetype": "text/x-python",
   "name": "python",
   "nbconvert_exporter": "python",
   "pygments_lexer": "ipython3",
   "version": "3.9.18"
  }
 },
 "nbformat": 4,
 "nbformat_minor": 5
}
